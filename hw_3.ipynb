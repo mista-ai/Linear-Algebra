{
 "cells": [
  {
   "cell_type": "markdown",
   "id": "0b86195f",
   "metadata": {},
   "source": [
    "__1.__ Найдите собственные векторы и собственные значения для линейного оператора, заданного матрицей:\n",
    "\n",
    "$$A=\\begin{pmatrix}\n",
    "-1 & -6\\\\ \n",
    "2 & 6\n",
    "\\end{pmatrix}.$$"
   ]
  },
  {
   "cell_type": "markdown",
   "id": "a79c9da3",
   "metadata": {},
   "source": [
    "Составим характеристическое уравнение:\n",
    "$$|A-\\lambda I|=0,$$\n",
    "$$\\begin{vmatrix}\n",
    "-1-\\lambda & -6\\\\\n",
    "2&6-\\lambda\n",
    "\\end{vmatrix}=0,$$\n",
    "$$(-1-\\lambda)*(6-\\lambda)+6*2=0,$$\n",
    "$$-6-6\\lambda+\\lambda+\\lambda^2+12=0,$$\n",
    "$$\\lambda^2-5\\lambda+6=0,$$\n",
    "Т.о. $\\lambda_1=2$ и $\\lambda_2=3$ - собственные значения оператора.\n",
    "Найдём собственные векторы, подставив собственные значения.\n",
    "1. $\\lambda_1=2$\n",
    "$$\\begin{pmatrix}\n",
    "-3&-6\\\\\n",
    "2&4\n",
    "\\end{pmatrix}\n",
    "\\begin{pmatrix}\n",
    "x_1\\\\x_2\n",
    "\\end{pmatrix}=0\\Rightarrow\n",
    "\\begin{pmatrix}\n",
    "1&2\\\\\n",
    "1&2\n",
    "\\end{pmatrix}\\begin{pmatrix}\n",
    "x_1\\\\x_2\n",
    "\\end{pmatrix}=0$$\n",
    "Т.к. второе уравнение совпадает с 1-м, можем его убрать. Получим:\n",
    "$$x_1+2x_2=0,$$\n",
    "$$x_1=-2x_2,$$\n",
    "где $x_2$ может принимать любое значение. Тогда векторы вида:\n",
    "$$\\begin{pmatrix}\n",
    "x_1\\\\x_2\\end{pmatrix}=\n",
    "\\begin{pmatrix}\n",
    "-2C\\\\C\\end{pmatrix},$$\n",
    "где C - произвольная константа, являются собственными векторами для оператора A.<br>\n",
    "2. $\\lambda_2=3$\n",
    "$$\\begin{pmatrix}\n",
    "-4&-6\\\\\n",
    "2&3\n",
    "\\end{pmatrix}\n",
    "\\begin{pmatrix}\n",
    "x_1\\\\x_2\\end{pmatrix}=0\\Rightarrow\n",
    "\\begin{pmatrix}\n",
    "2&3\\\\\n",
    "2&3\\end{pmatrix}\\begin{pmatrix}\n",
    "x_1\\\\x_2\\end{pmatrix}=0$$\n",
    "Т.к. второе уравнение совпадает с 1-м, можем его убрать. Получим:\n",
    "$$2x_1+3x_2=0,$$\n",
    "$$x_1=-\\frac{3}{2}x_2,$$\n",
    "где $x_2$ может принимать любое значение.\n",
    "Тогда векторы вида\n",
    "$$\\begin{pmatrix}\n",
    "x_1\\\\x_2\\end{pmatrix}=\n",
    "=\\begin{pmatrix}\n",
    "-\\frac{3}{2}C\\\\C\\end{pmatrix},$$\n",
    "где C - произвольная константа, являются собственными векторами для оператора A.<br>\n",
    "__Ответ: $\\lambda_1=2$, $\\lambda_2=3$ - собственные значения, $\\begin{pmatrix}-2C_1\\\\C_1\\end{pmatrix},$$\\begin{pmatrix}-\\frac{3}{2}C_2\\\\C_2\\end{pmatrix}$ - собственные векторы, где $C_1,C_2$ - произвольные константы.__"
   ]
  },
  {
   "cell_type": "markdown",
   "id": "8cb1900e",
   "metadata": {},
   "source": [
    "__2.__ Дан оператор поворота на 180 градусов, задаваемый матрицей:\n",
    "\n",
    "$$A=\\begin{pmatrix}\n",
    "-1 & 0\\\\ \n",
    "0 & -1\n",
    "\\end{pmatrix}.$$\n",
    "\n",
    "Покажите, что __любой__ вектор считается для него собственным."
   ]
  },
  {
   "cell_type": "markdown",
   "id": "a2b42f59",
   "metadata": {},
   "source": [
    "Если вектор $x=(x_1, x_2)$ - собственный вектор линейного оператора, то существует такое вещественное число $\\lambda$, что\n",
    "$$(A-\\lambda I)x=0.$$\n",
    "Подставим значения\n",
    "$$\\begin{pmatrix}\n",
    "-1-\\lambda&0\\\\\n",
    "0&-1-\\lambda\\end{pmatrix}\n",
    "\\begin{pmatrix}x_1\\\\x_2\\end{pmatrix}=0.$$\n",
    "$$\\begin{cases}\n",
    "(-1-\\lambda)x_1=0\\\\\n",
    "(-1-\\lambda)x_2=0\\end{cases}\\Rightarrow\\lambda = -1.$$\n",
    "Т.е. любому вектору $x=(x_1, x_2)$ соответствует собственное значение $\\lambda=-1$. Оператор поворота на 180 градусов переводит любой вектор в противоположно направленный вектор такой же длины.<br>\n",
    "Т.о. любой вектор является собственным вектором линейного оператора поворота на 180 градусов.<br>\n",
    "__Ответ: любой вектор является собственным вектором с собственным значением $\\lambda=-1.$__"
   ]
  },
  {
   "cell_type": "markdown",
   "id": "297b0eb5",
   "metadata": {},
   "source": [
    "__3.__ Пусть линейный оператор задан матрицей:\n",
    "\n",
    "$$A=\\begin{pmatrix}\n",
    "1 & 1\\\\ \n",
    "-1 & 3\n",
    "\\end{pmatrix}.$$\n",
    "\n",
    "Установите, считается ли вектор $x=(1,1)$ собственным вектором этого линейного оператора."
   ]
  },
  {
   "cell_type": "markdown",
   "id": "afc25a12",
   "metadata": {},
   "source": [
    "Если данный вектор является собственным вектором линейного оператора, то должно существовать вещественно число $\\lambda$ такое, что\n",
    "$$(A-\\lambda I)x=0.$$\n",
    "Подставим:\n",
    "$$\\begin{pmatrix}\n",
    "1-\\lambda & 1\\\\\n",
    "-1 & 3-\\lambda\\end{pmatrix}\\begin{pmatrix}\n",
    "1\\\\1\\end{pmatrix}=0.$$\n",
    "$$\\begin{cases}\n",
    "1-\\lambda+1=0\\\\\n",
    "-1+3-\\lambda=0\\end{cases}\\Rightarrow\\lambda=2.$$\n",
    "Т.о. вектор $x = (1, 1)$ является собственным вектором линейного оператора $A$, соответствующий собственному значению $\\lambda=2.$<br>\n",
    "__Ответ: является собственным вектором.__"
   ]
  },
  {
   "cell_type": "markdown",
   "id": "7cbfc155",
   "metadata": {},
   "source": [
    "**4.** Пусть линейный оператор задан матрицей:\n",
    "\n",
    "$$A=\\begin{pmatrix} 0 & 3 & 0\\\\ 3 & 0 & 0\\\\ 0 & 0 & 3 \\end{pmatrix}.$$\n",
    "\n",
    "Установите, считается ли вектор $x=(3, -3, -4)$ собственным вектором этого линейного оператора."
   ]
  },
  {
   "cell_type": "markdown",
   "id": "71bed7d3",
   "metadata": {},
   "source": [
    "Если данный вектор является собственным вектором линейного оператора, то должно существовать вещественно число $\\lambda$ такое, что\n",
    "$$(A-\\lambda I)x=0.$$\n",
    "Подставим значения:"
   ]
  },
  {
   "cell_type": "markdown",
   "id": "69edac5b",
   "metadata": {},
   "source": [
    "$$\\begin{pmatrix}\n",
    "-\\lambda & 3 & 0\\\\\n",
    "3 & -\\lambda & 0\\\\\n",
    "0 & 0 & 3-\\lambda\n",
    "\\end{pmatrix}\n",
    "\\begin{pmatrix}3\\\\-3\\\\-4\\end{pmatrix}=0$$"
   ]
  },
  {
   "cell_type": "markdown",
   "id": "025730a7",
   "metadata": {},
   "source": [
    "$$\\begin{cases}\n",
    "-3\\lambda-9=0\\\\\n",
    "9+3\\lambda=0\\\\\n",
    "12+4\\lambda=0\n",
    "\\end{cases}\\Rightarrow\n",
    "\\begin{cases}\n",
    "\\lambda=-3\\\\\n",
    "\\lambda=-3\\\\\n",
    "\\lambda=3\n",
    "\\end{cases}$$\n",
    "\n",
    "Такая система не имеет смысла. Т.о. вектор $x=(3, -3, -4)$ не является собственным вектором линейного оператора $A.$<br>\n",
    "__Ответ: не является собственным вектором.__"
   ]
  },
  {
   "cell_type": "code",
   "execution_count": null,
   "id": "c383567f",
   "metadata": {},
   "outputs": [],
   "source": []
  }
 ],
 "metadata": {
  "kernelspec": {
   "display_name": "Python 3 (ipykernel)",
   "language": "python",
   "name": "python3"
  },
  "language_info": {
   "codemirror_mode": {
    "name": "ipython",
    "version": 3
   },
   "file_extension": ".py",
   "mimetype": "text/x-python",
   "name": "python",
   "nbconvert_exporter": "python",
   "pygments_lexer": "ipython3",
   "version": "3.9.12"
  }
 },
 "nbformat": 4,
 "nbformat_minor": 5
}
