{
 "cells": [
  {
   "cell_type": "markdown",
   "id": "74fdd768",
   "metadata": {},
   "source": [
    "# Часть 1"
   ]
  },
  {
   "cell_type": "code",
   "execution_count": 1,
   "id": "81c42cc9",
   "metadata": {},
   "outputs": [],
   "source": [
    "import numpy as np"
   ]
  },
  {
   "cell_type": "markdown",
   "id": "c4d120d0",
   "metadata": {},
   "source": [
    "\n",
    "__1.__ Установите, какие произведения матриц $AB$ и $BA$ определены, и найдите размерности полученных матриц:\n",
    "\n",
    "   а) $A$ — матрица $4\\times 2$, $B$ — матрица $4\\times 2$;<br>\n",
    "   Так как количество столбцов матрицы A не равно количеству строк матрицы B, то операция не возможна.<br>\n",
    "   __Ответ: произведение не определено.__"
   ]
  },
  {
   "cell_type": "markdown",
   "id": "2ef777e9",
   "metadata": {},
   "source": [
    "   б) $A$ — матрица $2\\times 5$, $B$ — матрица $5\\times 3$;<br>\n",
    "   Произведение определено, т.к. количество столбцов матрицы A равно количеству строк матрицы B.<br>\n",
    "   Размерность результирующей матрицы: $2\\times3$<br>\n",
    "   __Ответ: произведение определено; размерность $2\\times3$__"
   ]
  },
  {
   "cell_type": "markdown",
   "id": "53f839ea",
   "metadata": {},
   "source": [
    "   в) $A$ — матрица $8\\times 3$, $B$ — матрица $3\\times 8$;<br>\n",
    "   Произведение определено, т.к. количество столбцов матрицы A равно количеству строк матрицы B.<br>\n",
    "   Размерность результирующей матрицы: $8\\times8$<br>\n",
    "   __Ответ: произведение определено; размерность $8\\times8$__"
   ]
  },
  {
   "cell_type": "markdown",
   "id": "6d6c92d5",
   "metadata": {},
   "source": [
    "   г) $A$ — квадратная матрица $4\\times 4$, $B$ — квадратная матрица $4\\times 4$.<br>\n",
    "   роизведение определено, т.к. количество столбцов матрицы A равно количеству строк матрицы B.<br>\n",
    "   Размерность результирующей матрицы: $4\\times4$<br>\n",
    "   __Ответ: произведение определено; размерность $4\\times4$__"
   ]
  },
  {
   "cell_type": "markdown",
   "id": "20f642d5",
   "metadata": {},
   "source": [
    "__2.__ Найдите сумму и произведение матриц $A=\\begin{pmatrix}\n",
    "1 & -2\\\\ \n",
    "3 & 0\n",
    "\\end{pmatrix}$ и $B=\\begin{pmatrix}\n",
    "4 & -1\\\\ \n",
    "0 & 5\n",
    "\\end{pmatrix}.$"
   ]
  },
  {
   "cell_type": "markdown",
   "id": "992700e8",
   "metadata": {},
   "source": [
    "$A+B=\\begin{pmatrix}\n",
    "1+4&-2-1\\\\\n",
    "3+0&0+5\n",
    "\\end{pmatrix}=\\begin{pmatrix}\n",
    "5&-3\\\\\n",
    "3&5\n",
    "\\end{pmatrix}$<br><br>\n",
    "$A\\times B=\\begin{pmatrix}\n",
    "1*4+(-2)*0 & 1*(-1)+(-2)*5\\\\\n",
    "3*4+0*0 & 3*(-1)+0*(5)\n",
    "\\end{pmatrix}=\\begin{pmatrix}\n",
    "4&-11\\\\\n",
    "12&-3\n",
    "\\end{pmatrix}$\n"
   ]
  },
  {
   "cell_type": "code",
   "execution_count": 2,
   "id": "72ef5015",
   "metadata": {},
   "outputs": [
    {
     "data": {
      "text/plain": [
       "array([[ 5, -3],\n",
       "       [ 3,  5]])"
      ]
     },
     "execution_count": 2,
     "metadata": {},
     "output_type": "execute_result"
    }
   ],
   "source": [
    "A = np.array([[1, -2], [3, 0]])\n",
    "B = np.array([[4, -1], [0, 5]])\n",
    "np.add(A, B)"
   ]
  },
  {
   "cell_type": "code",
   "execution_count": 3,
   "id": "687882a1",
   "metadata": {
    "scrolled": true
   },
   "outputs": [
    {
     "data": {
      "text/plain": [
       "array([[  4, -11],\n",
       "       [ 12,  -3]])"
      ]
     },
     "execution_count": 3,
     "metadata": {},
     "output_type": "execute_result"
    }
   ],
   "source": [
    "np.dot(A, B)"
   ]
  },
  {
   "cell_type": "markdown",
   "id": "1a7b7d89",
   "metadata": {},
   "source": [
    "__3.__ Из закономерностей сложения и умножения матриц на число можно сделать вывод, что матрицы одного размера образуют линейное пространство. Вычислите линейную комбинацию $3A-2B+4C$ для матриц $A=\\begin{pmatrix}\n",
    "1 & 7\\\\ \n",
    "3 & -6\n",
    "\\end{pmatrix}$, $B=\\begin{pmatrix}\n",
    "0 & 5\\\\ \n",
    "2 & -1\n",
    "\\end{pmatrix}$, $C=\\begin{pmatrix}\n",
    "2 & -4\\\\ \n",
    "1 & 1\n",
    "\\end{pmatrix}.$"
   ]
  },
  {
   "cell_type": "markdown",
   "id": "406a808b",
   "metadata": {},
   "source": [
    "$3A = 3\\begin{pmatrix}\n",
    "1&7\\\\\n",
    "3&-6\n",
    "\\end{pmatrix}=\\begin{pmatrix}\n",
    "3&21\\\\\n",
    "9&-18\n",
    "\\end{pmatrix}$<br><br>\n",
    "$2B=2\\begin{pmatrix}\n",
    "0&5\\\\\n",
    "2&-1\n",
    "\\end{pmatrix}=\\begin{pmatrix}\n",
    "0&10\\\\\n",
    "4&-2\n",
    "\\end{pmatrix}$<br><br>\n",
    "$4C=4\\begin{pmatrix}\n",
    "2&-4\\\\\n",
    "1&1\n",
    "\\end{pmatrix}=\\begin{pmatrix}\n",
    "8&-16\\\\\n",
    "4&4\n",
    "\\end{pmatrix}$"
   ]
  },
  {
   "cell_type": "markdown",
   "id": "0c1daa29",
   "metadata": {},
   "source": [
    "$3A-2B=\\begin{pmatrix}\n",
    "3&11\\\\\n",
    "5&-16\n",
    "\\end{pmatrix}$"
   ]
  },
  {
   "cell_type": "markdown",
   "id": "491bc2af",
   "metadata": {},
   "source": [
    "$3A-2B+4C=\\begin{pmatrix}\n",
    "11&-5\\\\\n",
    "9&-12\n",
    "\\end{pmatrix}$"
   ]
  },
  {
   "cell_type": "code",
   "execution_count": 4,
   "id": "50bdbb3c",
   "metadata": {},
   "outputs": [],
   "source": [
    "A = np.array([[1, 7], [3, -6]])\n",
    "B = np.array([[0, 5], [2, -1]])\n",
    "C = np.array([[2, -4], [1, 1]])"
   ]
  },
  {
   "cell_type": "code",
   "execution_count": 5,
   "id": "f74ccf1b",
   "metadata": {},
   "outputs": [
    {
     "data": {
      "text/plain": [
       "array([[ 11,  -5],\n",
       "       [  9, -12]])"
      ]
     },
     "execution_count": 5,
     "metadata": {},
     "output_type": "execute_result"
    }
   ],
   "source": [
    "3*A-2*B+4*C"
   ]
  },
  {
   "cell_type": "markdown",
   "id": "f6971039",
   "metadata": {},
   "source": [
    "__4.__ Дана матрица $A=\\begin{pmatrix}\n",
    "4 & 1\\\\ \n",
    "5 & -2\\\\ \n",
    "2 & 3\n",
    "\\end{pmatrix}$.\n",
    "Вычислите $AA^{T}$ и $A^{T}A$."
   ]
  },
  {
   "cell_type": "markdown",
   "id": "55f5f669",
   "metadata": {},
   "source": [
    "$A^{T}=\\begin{pmatrix}\n",
    "4&5&2\\\\\n",
    "1&-2&3\n",
    "\\end{pmatrix}$"
   ]
  },
  {
   "cell_type": "markdown",
   "id": "1d8247c5",
   "metadata": {},
   "source": [
    "$AA^{T}=\\begin{pmatrix}\n",
    "4*4+1*1&4*5+1*(-2)&4*2+1*3\\\\\n",
    "5*4-2*1&5*5-2*(-2)&5*2-2*3\\\\\n",
    "2*4+3*1&2*5+3*(-2)&2*2+3*3\n",
    "\\end{pmatrix}=\\begin{pmatrix}\n",
    "17&18&11\\\\\n",
    "18&29&4\\\\\n",
    "11&4&13\n",
    "\\end{pmatrix}\n",
    "$"
   ]
  },
  {
   "cell_type": "markdown",
   "id": "b1312622",
   "metadata": {},
   "source": [
    "$A^{T}A=\\begin{pmatrix}\n",
    "4*4+5*5+2*2&4*1+5*(-2)+2*3\\\\\n",
    "1*4-2*5+3*2&1*1-2*(-2)+3*3\n",
    "\\end{pmatrix}=\\begin{pmatrix}\n",
    "45&0\\\\\n",
    "0&14\n",
    "\\end{pmatrix}$"
   ]
  },
  {
   "cell_type": "code",
   "execution_count": 6,
   "id": "aedc7fc7",
   "metadata": {},
   "outputs": [
    {
     "data": {
      "text/plain": [
       "array([[ 4,  5,  2],\n",
       "       [ 1, -2,  3]])"
      ]
     },
     "execution_count": 6,
     "metadata": {},
     "output_type": "execute_result"
    }
   ],
   "source": [
    "A=np.array([[4, 1], [5, -2], [2, 3]])\n",
    "At = A.transpose()\n",
    "At"
   ]
  },
  {
   "cell_type": "code",
   "execution_count": 7,
   "id": "76e9a485",
   "metadata": {},
   "outputs": [
    {
     "data": {
      "text/plain": [
       "array([[17, 18, 11],\n",
       "       [18, 29,  4],\n",
       "       [11,  4, 13]])"
      ]
     },
     "execution_count": 7,
     "metadata": {},
     "output_type": "execute_result"
    }
   ],
   "source": [
    "np.dot(A, At)"
   ]
  },
  {
   "cell_type": "code",
   "execution_count": 8,
   "id": "c2a7d604",
   "metadata": {},
   "outputs": [
    {
     "data": {
      "text/plain": [
       "array([[45,  0],\n",
       "       [ 0, 14]])"
      ]
     },
     "execution_count": 8,
     "metadata": {},
     "output_type": "execute_result"
    }
   ],
   "source": [
    "np.dot(At, A)"
   ]
  },
  {
   "cell_type": "markdown",
   "id": "205b36be",
   "metadata": {},
   "source": [
    "__5*.__ Напишите на Python функцию для перемножения двух произвольных матриц, не используя NumPy."
   ]
  },
  {
   "cell_type": "code",
   "execution_count": 9,
   "id": "128752c0",
   "metadata": {},
   "outputs": [],
   "source": [
    "def product(A, B):\n",
    "    if len(A[0]) != len(B):\n",
    "        return 'Number of columns of first matrix is not equal to number of rows of second matrix'\n",
    "    result = [[0 for j in range(len(B[0]))] for i in range(len(A))]\n",
    "    for i in range(len(A)):\n",
    "        for j in range(len(B[0])):\n",
    "            for k in range(len(A[0])):\n",
    "                result[i][j] += A[i][k]*B[k][j]\n",
    "    return result"
   ]
  },
  {
   "cell_type": "code",
   "execution_count": 10,
   "id": "113eec0e",
   "metadata": {},
   "outputs": [
    {
     "data": {
      "text/plain": [
       "[[2, 19], [-4, 27], [6, 7]]"
      ]
     },
     "execution_count": 10,
     "metadata": {},
     "output_type": "execute_result"
    }
   ],
   "source": [
    "product(A, B)"
   ]
  },
  {
   "cell_type": "code",
   "execution_count": 11,
   "id": "f67408b9",
   "metadata": {},
   "outputs": [
    {
     "data": {
      "text/plain": [
       "array([[ 2, 19],\n",
       "       [-4, 27],\n",
       "       [ 6,  7]])"
      ]
     },
     "execution_count": 11,
     "metadata": {},
     "output_type": "execute_result"
    }
   ],
   "source": [
    "np.dot(A, B)"
   ]
  },
  {
   "cell_type": "markdown",
   "id": "805e6635",
   "metadata": {},
   "source": [
    "# Часть 2\n"
   ]
  },
  {
   "cell_type": "markdown",
   "id": "0d5c4924",
   "metadata": {},
   "source": [
    "__1.__ Вычислите определитель:\n",
    "\n",
    "a)\n",
    "\n",
    "$$\\begin{vmatrix}\n",
    "sinx & -cosx\\\\ \n",
    "cosx & sinx\n",
    "\\end{vmatrix};$$"
   ]
  },
  {
   "cell_type": "markdown",
   "id": "a2f025cc",
   "metadata": {},
   "source": [
    "$\\begin{vmatrix}\n",
    "sinx & -cosx\\\\ \n",
    "cosx & sinx\n",
    "\\end{vmatrix}=\n",
    "sinx*sinx+cosx*cosx=1$<br>\n",
    "\n",
    "__Ответ: 1__"
   ]
  },
  {
   "cell_type": "markdown",
   "id": "61753b91",
   "metadata": {},
   "source": [
    "б)\n",
    "    \n",
    "$$\\begin{vmatrix}\n",
    "4 & 2 & 3\\\\ \n",
    "0 & 5 & 1\\\\ \n",
    "0 & 0 & 9\n",
    "\\end{vmatrix};$$"
   ]
  },
  {
   "cell_type": "markdown",
   "id": "62430e40",
   "metadata": {},
   "source": [
    "$\\begin{vmatrix}\n",
    "4 & 2 & 3\\\\ \n",
    "0 & 5 & 1\\\\ \n",
    "0 & 0 & 9\n",
    "\\end{vmatrix}\n",
    "=4\\begin{vmatrix}\n",
    "5&1\\\\\n",
    "0&9\n",
    "\\end{vmatrix}-\n",
    "0\\begin{vmatrix}\n",
    "2&3\\\\\n",
    "0&9\n",
    "\\end{vmatrix}+\n",
    "0\\begin{vmatrix}\n",
    "2&3\\\\\n",
    "5&1\n",
    "\\end{vmatrix}=4*(5*9-0*1)=4*45=180$<br>\n",
    "\n",
    "__Ответ: 180__"
   ]
  },
  {
   "cell_type": "code",
   "execution_count": 13,
   "id": "f75acdd7",
   "metadata": {},
   "outputs": [
    {
     "data": {
      "text/plain": [
       "180.0"
      ]
     },
     "execution_count": 13,
     "metadata": {},
     "output_type": "execute_result"
    }
   ],
   "source": [
    "A = np.array([[4, 2, 3],\n",
    "              [0, 5, 1],\n",
    "              [0, 0, 9]])\n",
    "np.linalg.det(A)"
   ]
  },
  {
   "cell_type": "markdown",
   "id": "24ed8f70",
   "metadata": {},
   "source": [
    "в)\n",
    "\n",
    "$$\\begin{vmatrix}\n",
    "1 & 2 & 3\\\\ \n",
    "4 & 5 & 6\\\\ \n",
    "7 & 8 & 9\n",
    "\\end{vmatrix}.$$"
   ]
  },
  {
   "cell_type": "markdown",
   "id": "b82ed616",
   "metadata": {},
   "source": [
    "$\\begin{vmatrix}\n",
    "1 & 2 & 3\\\\ \n",
    "4 & 5 & 6\\\\ \n",
    "7 & 8 & 9\n",
    "\\end{vmatrix}=\n",
    "1\\begin{vmatrix}\n",
    "5&6\\\\\n",
    "8&9\n",
    "\\end{vmatrix}-\n",
    "2\\begin{vmatrix}\n",
    "4&6\\\\\n",
    "7&9\n",
    "\\end{vmatrix}+\n",
    "3\\begin{vmatrix}\n",
    "4&5\\\\\n",
    "7&8\n",
    "\\end{vmatrix}=1*(5*9-6*8)-2*(4*9-6*7)+3*(4*8-5*7)=$<br>$=45-48-2*(36-42)+3*(32-35)=-3+12+-9=0$<br>\n",
    "__Ответ: 0__"
   ]
  },
  {
   "cell_type": "code",
   "execution_count": 29,
   "id": "6b7a138f",
   "metadata": {},
   "outputs": [
    {
     "data": {
      "text/plain": [
       "-0.0"
      ]
     },
     "execution_count": 29,
     "metadata": {},
     "output_type": "execute_result"
    }
   ],
   "source": [
    "A = np.array([[1, 2, 3],\n",
    "              [4, 5, 6],\n",
    "              [7, 8, 9]])\n",
    "round(np.linalg.det(A), 10)"
   ]
  },
  {
   "cell_type": "markdown",
   "id": "e5997646",
   "metadata": {},
   "source": [
    "__2.__ Определитель матрицы $A$ равен $4$. Найдите:\n",
    "\n",
    "   а) $det(A^{2})$;\n",
    "    \n",
    "   б) $det(A^{T})$;\n",
    "    \n",
    "   в) $det(2A)$."
   ]
  },
  {
   "cell_type": "markdown",
   "id": "5b672489",
   "metadata": {},
   "source": [
    "а) $det(A^{2}) = det(A*A) = det(A)*det(A) = 16$<br>\n",
    "__Ответ: 16__"
   ]
  },
  {
   "cell_type": "markdown",
   "id": "a33317fd",
   "metadata": {},
   "source": [
    "б) $det(A^{T})=det(A)=4$<br>\n",
    "__Ответ: 4__"
   ]
  },
  {
   "cell_type": "markdown",
   "id": "e9f76530",
   "metadata": {},
   "source": [
    "в) Т.к. при умножении строки/столбца матрицы на число определитель умножается на это же число, то при умножении матрицы на число мы умножаем каждую строку на число и определитель произведения матрицы на число равен произведению определителя на число в степени количества строк или столбцов.<br>\n",
    "$det(2A) = 2^{n}*4$, где n - количество строк/столбцов матрицы<br>\n",
    "__Ответ: $4*2^n$__"
   ]
  },
  {
   "cell_type": "markdown",
   "id": "cfc2c500",
   "metadata": {},
   "source": [
    "__3.__  Докажите, что матрица:\n",
    "\n",
    "$$\\begin{pmatrix}\n",
    "-2 & 7 & -3\\\\ \n",
    "4 & -14 & 6\\\\ \n",
    "-3 & 7 & 13\n",
    "\\end{pmatrix}$$\n",
    "   \n",
    "вырожденная."
   ]
  },
  {
   "cell_type": "markdown",
   "id": "48c61dd5",
   "metadata": {},
   "source": [
    "1-я строка и 2-я строка линейно зависимы: если умножим 1-ю строку на -2 получим 2-ю строку. Поэтому по свойству определителей определитель равен 0.<br>\n",
    "Т.к. определитель равен 0, то эта матрица вырожденная по определению.<br>"
   ]
  },
  {
   "cell_type": "code",
   "execution_count": 30,
   "id": "3adf74a1",
   "metadata": {},
   "outputs": [
    {
     "data": {
      "text/plain": [
       "0.0"
      ]
     },
     "execution_count": 30,
     "metadata": {},
     "output_type": "execute_result"
    }
   ],
   "source": [
    "A = np.array([[-2, 7, -3],\n",
    "              [4, -14, 6],\n",
    "              [-3, 7, 13]])\n",
    "np.linalg.det(A)"
   ]
  },
  {
   "cell_type": "markdown",
   "id": "38848873",
   "metadata": {},
   "source": [
    "__4.__ Найдите ранг матрицы:\n",
    "\n",
    "   а) $\\begin{pmatrix}\n",
    "1 & 2 & 3\\\\ \n",
    "1 & 1 & 1\\\\ \n",
    "2 & 3 & 4\n",
    "\\end{pmatrix};$"
   ]
  },
  {
   "cell_type": "markdown",
   "id": "5e328b6b",
   "metadata": {},
   "source": [
    "3-я строка является суммой 1-й и 2-й строки, поэтому её можно отбросить:<br>\n",
    "$\\begin{pmatrix}\n",
    "1 & 2 & 3\\\\ \n",
    "1 & 1 & 1\\\\ \n",
    "\\end{pmatrix}$\n",
    "<br>Из 2-й строки отнимем 1-ю, получим:<br>\n",
    "$\\begin{pmatrix}\n",
    "1 & 2 & 3\\\\ \n",
    "0 & -1 & -2\\\\ \n",
    "\\end{pmatrix}$<br>\n",
    "Таким образом ранг матрицы равен 2<br>\n",
    "__Ответ: 2__"
   ]
  },
  {
   "cell_type": "code",
   "execution_count": 34,
   "id": "e289a43e",
   "metadata": {},
   "outputs": [
    {
     "data": {
      "text/plain": [
       "2"
      ]
     },
     "execution_count": 34,
     "metadata": {},
     "output_type": "execute_result"
    }
   ],
   "source": [
    "A = np.array([[1, 2, 3],\n",
    "              [1, 1, 1],\n",
    "              [2, 3, 4]])\n",
    "np.linalg.matrix_rank(A)"
   ]
  },
  {
   "cell_type": "markdown",
   "id": "5bd6bdd2",
   "metadata": {},
   "source": [
    "   б) $\\begin{pmatrix}\n",
    "0 & 0 & 2 & 1\\\\ \n",
    "0 & 0 & 2 & 2\\\\ \n",
    "0 & 0 & 4 & 3\\\\ \n",
    "2 & 3 & 5 & 6\n",
    "\\end{pmatrix}.$"
   ]
  },
  {
   "cell_type": "markdown",
   "id": "7cc2ca1d",
   "metadata": {},
   "source": [
    "Т.к. 3-я строка явл-ся линейной комбинацией 1-й и 2-й строк, можем её убрать\n",
    "$$\\begin{pmatrix}\n",
    "0 & 0 & 2 & 1\\\\ \n",
    "0 & 0 & 2 & 2\\\\ \n",
    "2 & 3 & 5 & 6\n",
    "\\end{pmatrix}.$$\n",
    "Отнимем из 1-й строки 2-ю, получим:\n",
    "$$\\begin{pmatrix}\n",
    "0 & 0 & 0 & -1\\\\ \n",
    "0 & 0 & 2 & 2\\\\ \n",
    "2 & 3 & 5 & 6\n",
    "\\end{pmatrix}.$$\n",
    "Т.о. ранг матрицы равен 3<br>\n",
    "__Ответ: 3__"
   ]
  },
  {
   "cell_type": "code",
   "execution_count": 33,
   "id": "1e56f21f",
   "metadata": {},
   "outputs": [
    {
     "data": {
      "text/plain": [
       "3"
      ]
     },
     "execution_count": 33,
     "metadata": {},
     "output_type": "execute_result"
    }
   ],
   "source": [
    "A = np.array([[0, 0, 2, 1], [0, 0, 2, 2], [0, 0, 4, 3], [2, 3, 5, 6]])\n",
    "np.linalg.matrix_rank(A)"
   ]
  }
 ],
 "metadata": {
  "kernelspec": {
   "display_name": "Python 3 (ipykernel)",
   "language": "python",
   "name": "python3"
  },
  "language_info": {
   "codemirror_mode": {
    "name": "ipython",
    "version": 3
   },
   "file_extension": ".py",
   "mimetype": "text/x-python",
   "name": "python",
   "nbconvert_exporter": "python",
   "pygments_lexer": "ipython3",
   "version": "3.9.12"
  }
 },
 "nbformat": 4,
 "nbformat_minor": 5
}
