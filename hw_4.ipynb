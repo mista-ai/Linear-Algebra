{
 "cells": [
  {
   "cell_type": "markdown",
   "id": "963e25aa",
   "metadata": {},
   "source": [
    "# Часть 1"
   ]
  },
  {
   "cell_type": "markdown",
   "id": "e7a53237",
   "metadata": {},
   "source": [
    "__1.__ Решите систему уравнений методом Гаусса:\n",
    "\n",
    "$$\\begin{cases}\n",
    "x_{1}+x_{2}-x_{3}-2x_{4}=0, \\\\\n",
    "2x_{1}+x_{2}-x_{3}+x_{4}=-2, \\\\\n",
    "x_{1}+x_{2}-3x_{3}+x_{4}=4.\n",
    "\\end{cases}$$"
   ]
  },
  {
   "cell_type": "markdown",
   "id": "99166ffb",
   "metadata": {},
   "source": [
    "$\\begin{pmatrix}\n",
    "\\left.\\begin{matrix}\n",
    "1&1&-1&-2\\\\\n",
    "2&1&-1&1\\\\\n",
    "1&1&-3&1\n",
    "\\end{matrix}\n",
    "\\right|\\begin{matrix}\n",
    "0\\\\-2\\\\4\n",
    "\\end{matrix}\n",
    "\\end{pmatrix}=\n",
    "\\begin{pmatrix}\n",
    "\\left.\\begin{matrix}\n",
    "1&1&-1&-2\\\\\n",
    "0&-1&1&5\\\\\n",
    "0&0&-2&3\n",
    "\\end{matrix}\n",
    "\\right|\\begin{matrix}\n",
    "0\\\\-2\\\\4\n",
    "\\end{matrix}\n",
    "\\end{pmatrix}\n",
    "$"
   ]
  },
  {
   "cell_type": "markdown",
   "id": "1d513b45",
   "metadata": {},
   "source": [
    "Система имеет бесконечное кол-во решений. Пусть $x_4=C$ - свободный параметр, тогда:"
   ]
  },
  {
   "cell_type": "markdown",
   "id": "d2712b3c",
   "metadata": {},
   "source": [
    "$$\\begin{cases}\n",
    "x_3=(4-3C)/(-2)=\\frac{3}{2}C-2,\\\\\n",
    "x_2=(-2-5C-\\frac{3}{2}C+2)/(-1)=\\frac{13}{2}C,\\\\\n",
    "x_1=2C+\\frac{3}{2}C-2-\\frac{13}{2}C=-3C-2.\n",
    "\\end{cases}\n",
    "$$\n",
    "Получили общее решение системы.\n",
    "__Ответ: $\\begin{pmatrix}-3C-2\\\\ \\frac{13}{2}C\\\\ \\frac{3}{2}C-2 \\\\C\\end{pmatrix}$, где C - произвольная константа.__"
   ]
  },
  {
   "cell_type": "markdown",
   "id": "a1e146d4",
   "metadata": {},
   "source": [
    "__2.__ Проверьте на совместность и выясните, сколько решений будет иметь система линейных уравнений:\n",
    "\n",
    "   а) $\\begin{cases}\n",
    "3x_{1}-x_{2}+x_{3}=4, \\\\\n",
    "2x_{1}-5x_{2}-3x_{3}=-17, \\\\\n",
    "x_{1}+x_{2}-x_{3}=0;\n",
    "\\end{cases}$  "
   ]
  },
  {
   "cell_type": "markdown",
   "id": "da4fabc5",
   "metadata": {},
   "source": [
    "Запишем расширенную матрицу:\n",
    "$$A=\\begin{pmatrix}\n",
    "\\left.\\begin{matrix}\n",
    "3&-1&1\\\\\n",
    "2&-5&-3\\\\\n",
    "1&1&-1\n",
    "\\end{matrix}\\right|\\begin{matrix}\n",
    "4\\\\-17\\\\0\\end{matrix}\\end{pmatrix}$$\n",
    "Столбцы матрицы линейно независимы. Три линейно независимых вектора образуют в трехмерном пространстве базис и любой вектор можно выразить через линейную комбинацию базисных векторов единственным образом.\n",
    "\n",
    "Таким образом, система совместна и имеет единственное решение."
   ]
  },
  {
   "cell_type": "markdown",
   "id": "e544815b",
   "metadata": {},
   "source": [
    "$$\\tilde{A}=\\begin{pmatrix}\n",
    "\\left.\\begin{matrix}\n",
    "3&-1&1\\\\\n",
    "2&-5&-3\\\\\n",
    "1&1&-1\n",
    "\\end{matrix}\\right|\\begin{matrix}\n",
    "4\\\\-17\\\\0\\end{matrix}\\end{pmatrix}=\n",
    "\\begin{pmatrix}\n",
    "\\left.\\begin{matrix}\n",
    "1&1&-1\\\\\n",
    "0&-4&4\\\\\n",
    "0&-7&-1\n",
    "\\end{matrix}\\right|\\begin{matrix}\n",
    "0\\\\4\\\\-17\\end{matrix}\\end{pmatrix}=\n",
    "\\begin{pmatrix}\n",
    "\\left.\\begin{matrix}\n",
    "1&1&-1\\\\\n",
    "0&-1&1\\\\\n",
    "0&-7&-1\n",
    "\\end{matrix}\\right|\\begin{matrix}\n",
    "0\\\\1\\\\-17\\end{matrix}\\end{pmatrix}=\n",
    "\\begin{pmatrix}\n",
    "\\left.\\begin{matrix}\n",
    "1&1&-1\\\\\n",
    "0&1&-1\\\\\n",
    "0&-7&-1\n",
    "\\end{matrix}\\right|\\begin{matrix}\n",
    "0\\\\-1\\\\-17\\end{matrix}\\end{pmatrix}=\n",
    "\\begin{pmatrix}\n",
    "\\left.\\begin{matrix}\n",
    "1&1&-1\\\\\n",
    "0&1&-1\\\\\n",
    "0&0&-8\n",
    "\\end{matrix}\\right|\\begin{matrix}\n",
    "0\\\\-1\\\\-24\\end{matrix}\\end{pmatrix}\n",
    "$$"
   ]
  },
  {
   "cell_type": "markdown",
   "id": "25667104",
   "metadata": {},
   "source": [
    "$rankA=rank\\tilde{A}=n=3$<br>Тогда по теореме Кронекера-Капелли такая система совместна и определена, т.е. имеет единственное решение.<br>\n",
    "__Ответ: система совместна и имеет единственное решение.__ "
   ]
  },
  {
   "cell_type": "code",
   "execution_count": 1,
   "id": "90b4c1a7",
   "metadata": {},
   "outputs": [],
   "source": [
    "import numpy as np"
   ]
  },
  {
   "cell_type": "code",
   "execution_count": 2,
   "id": "c49c2f47",
   "metadata": {},
   "outputs": [
    {
     "name": "stdout",
     "output_type": "stream",
     "text": [
      "Ранг основной матрицы = 3\n",
      "Ранг расширенной матрицы = 3\n"
     ]
    }
   ],
   "source": [
    "A = np.array([[3, -1, 1], [2, -5, -3], [1, 1, -1]])\n",
    "A_tilde = np.array([[3, -1, 1, 4], [2, -5, -3, -17], [1, 1, -1, 0]])\n",
    "\n",
    "print(f'Ранг основной матрицы = {np.linalg.matrix_rank(A)}')\n",
    "print(f'Ранг расширенной матрицы = {np.linalg.matrix_rank(A_tilde)}')"
   ]
  },
  {
   "cell_type": "markdown",
   "id": "e0c6f5cf",
   "metadata": {},
   "source": [
    "б) $\\begin{cases}\n",
    "2x_{1}-4x_{2}+6x_{3}=1, \\\\\n",
    "x_{1}-2x_{2}+3x_{3}=-2, \\\\\n",
    "3x_{1}-6x_{2}+9x_{3}=5;\n",
    "\\end{cases}$"
   ]
  },
  {
   "cell_type": "markdown",
   "id": "e567e7c5",
   "metadata": {},
   "source": [
    "Запишем расширенную матрицу:\n",
    "$$\\tilde{A}=\\begin{pmatrix}\n",
    "\\left.\\begin{matrix}\n",
    "2&-4&6\\\\\n",
    "1&-2&3\\\\\n",
    "3&-6&9\n",
    "\\end{matrix}\\right|\n",
    "\\begin{matrix}\n",
    "1\\\\-2\\\\5\\end{matrix}\n",
    "\\end{pmatrix}$$"
   ]
  },
  {
   "cell_type": "markdown",
   "id": "eef449f9",
   "metadata": {},
   "source": [
    "Все столбцы исходной матрицы линейно зависимы, т.е. все три вектора лежат на одной прямой, другим словами принадлежат некоторому одномерному линейному подпространству исходного трехмерного пространства.\n",
    "\n",
    "Вектор правой части и столбцы исходной матрицы линейно независимы. Это значит, что вектор правой части не принадлежит линейному подпространству, то есть не лежит на этой прямой.\n",
    "\n",
    "Таким образом, система несовместна."
   ]
  },
  {
   "cell_type": "markdown",
   "id": "4b039d6a",
   "metadata": {},
   "source": [
    "$$\\tilde{A}=\\begin{pmatrix}\n",
    "\\left.\\begin{matrix}\n",
    "2&-4&6\\\\\n",
    "1&-2&3\\\\\n",
    "3&-6&9\n",
    "\\end{matrix}\\right|\n",
    "\\begin{matrix}\n",
    "1\\\\-2\\\\5\\end{matrix}\n",
    "\\end{pmatrix}=\n",
    "\\begin{pmatrix}\n",
    "\\left.\\begin{matrix}\n",
    "1&-2&3\\\\\n",
    "2&-4&6\\\\\n",
    "3&-6&9\n",
    "\\end{matrix}\\right|\n",
    "\\begin{matrix}\n",
    "-2\\\\1\\\\5\\end{matrix}\n",
    "\\end{pmatrix}=\n",
    "\\begin{pmatrix}\n",
    "\\left.\\begin{matrix}\n",
    "1&-2&3\\\\\n",
    "0&0&0\\\\\n",
    "0&0&0\n",
    "\\end{matrix}\\right|\n",
    "\\begin{matrix}\n",
    "-2\\\\5\\\\11\\end{matrix}\n",
    "\\end{pmatrix}=\n",
    "\\begin{pmatrix}\n",
    "\\left.\\begin{matrix}\n",
    "1&-2&3\\\\\n",
    "0&0&0\n",
    "\\end{matrix}\\right|\n",
    "\\begin{matrix}\n",
    "-2\\\\5\\end{matrix}\n",
    "\\end{pmatrix}$$\n",
    "\n",
    "$$rankA=1<rank\\tilde{A}=2.$$\n",
    "Т.к. ранг основной матрицы меньше ранга расширенной матрицы, то по теореме Кронекера-Капелли такая система несовместна.<br>\n",
    "__Ответ: система несовместна.__"
   ]
  },
  {
   "cell_type": "code",
   "execution_count": 3,
   "id": "3d85e095",
   "metadata": {},
   "outputs": [
    {
     "name": "stdout",
     "output_type": "stream",
     "text": [
      "Ранг основной матрицы = 1\n",
      "Ранг расширенной матрицы = 2\n"
     ]
    }
   ],
   "source": [
    "A = np.array([[2, -4, 6], [1, -2, 3], [3, -6, 9]])\n",
    "A_tilde = np.array([[2, -4, 6, 1], [1, -2, 3, -2], [3, -6, 9, 5]])\n",
    "\n",
    "print(f'Ранг основной матрицы = {np.linalg.matrix_rank(A)}')\n",
    "print(f'Ранг расширенной матрицы = {np.linalg.matrix_rank(A_tilde)}')"
   ]
  },
  {
   "cell_type": "markdown",
   "id": "2dcba2ef",
   "metadata": {},
   "source": [
    "в) $\\begin{cases}\n",
    "x_{1}+2x_{2}+5x_{3}=4, \\\\\n",
    "3x_{1}+x_{2}-8x_{3}=-2. \n",
    "\\end{cases}$"
   ]
  },
  {
   "cell_type": "markdown",
   "id": "3e2ba390",
   "metadata": {},
   "source": [
    "Запишем расширенную матрицу:\n",
    "$$\\tilde{A}=\\begin{pmatrix}\n",
    "\\left.\\begin{matrix}\n",
    "1&2&5\\\\\n",
    "3&1&-8\n",
    "\\end{matrix}\\right|\n",
    "\\begin{matrix}\n",
    "4\\\\-2\n",
    "\\end{matrix}\\end{pmatrix}$$\n",
    "Столбцы матрицы линейно независимы. Три линейно независимых вектора образуют в трехмерном пространстве базис и любой вектор можно выразить через линейную комбинацию базисных векторов единственным образом.\n",
    "\n",
    "Таким образом, система совместна и имеет единственное решение.\n",
    "\n",
    "Проверим с помощью теоремы Кронекера-Капелли. Путем элементарных преобразований приведем матрицу к ступенчатому виду."
   ]
  },
  {
   "cell_type": "markdown",
   "id": "ee08ad4f",
   "metadata": {},
   "source": [
    "$$\\begin{pmatrix}\n",
    "\\left.\\begin{matrix}\n",
    "1&2&5\\\\\n",
    "3&1&-8\n",
    "\\end{matrix}\\right|\n",
    "\\begin{matrix}\n",
    "4\\\\-2\n",
    "\\end{matrix}\\end{pmatrix}=\n",
    "\\begin{pmatrix}\n",
    "\\left.\\begin{matrix}\n",
    "1&2&5\\\\\n",
    "0&-5&-23\n",
    "\\end{matrix}\\right|\n",
    "\\begin{matrix}\n",
    "4\\\\-14\n",
    "\\end{matrix}\\end{pmatrix}$$\n",
    "Видно, что ранг основной матрицы $A$ совпадает с рангом расширенной матрицы $\\tilde{A} \n",
    "$$rankA=rank\\tilde{A}=2<n=3.$\n",
    "Тогда по теореме Кронекера-Капелли такая система совместна и имеет бесконечное количество решений.\n",
    "\n",
    "__Ответ: система совместна и имеет бесконечное количество решений.__"
   ]
  },
  {
   "cell_type": "code",
   "execution_count": 4,
   "id": "0c7931ab",
   "metadata": {},
   "outputs": [
    {
     "name": "stdout",
     "output_type": "stream",
     "text": [
      "Ранг основной матрицы = 2\n",
      "Ранг расширенной матрицы = 2\n"
     ]
    }
   ],
   "source": [
    "A = np.array([[1, 2, 5], [3, 1, -8]])\n",
    "A_tilde = np.array([[1, 2, 5, 4], [3, 1, -8, -2]])\n",
    "\n",
    "print(f'Ранг основной матрицы = {np.linalg.matrix_rank(A)}')\n",
    "print(f'Ранг расширенной матрицы = {np.linalg.matrix_rank(A_tilde)}')"
   ]
  },
  {
   "cell_type": "markdown",
   "id": "f9b1e3ef",
   "metadata": {},
   "source": [
    "__3.__ Проверьте на совместность и выясните, сколько решений будет иметь система линейных уравнений, заданная расширенной матрицей:\n",
    "\n",
    "$$\\tilde{A}=\\begin{pmatrix}\n",
    "\\left.\\begin{matrix}\n",
    "1 & 3 & -2 & 4\\\\ \n",
    "0 & 5 & 0 & 1\\\\ \n",
    "0 & 0 & 3 & 0\\\\ \n",
    "0 & 0 & 0 & 2\n",
    "\\end{matrix}\\right|\n",
    "\\begin{matrix}\n",
    "3\\\\ \n",
    "2\\\\\n",
    "4\\\\\n",
    "1\n",
    "\\end{matrix}\n",
    "\\end{pmatrix}.$$"
   ]
  },
  {
   "cell_type": "markdown",
   "id": "e4a6bd8e",
   "metadata": {},
   "source": [
    "Ранг основной матрицы $A$ совпадает с рангом расширенной матрицы $\\tilde{A}$ и равен числу неизвестных n.\n",
    "$$rankA=rank\\tilde{A}=n=4$$\n",
    "Тогда по т. Кронекера-Капелли такая система совместима и определена.<br>\n",
    "__Ответ: система совместна и имеет одно решение.__"
   ]
  },
  {
   "cell_type": "code",
   "execution_count": 5,
   "id": "6d8b1738",
   "metadata": {},
   "outputs": [
    {
     "name": "stdout",
     "output_type": "stream",
     "text": [
      "Ранг основной матрицы = 4\n",
      "Ранг расширенной матрицы = 4\n"
     ]
    }
   ],
   "source": [
    "A = np.array([[1, 3, -2, 4], [0, 5, 0, 1], [0, 0, 3, 0], [0, 0, 0, 2]])\n",
    "A_tilde = np.array([[1, 3, -2, 4, 3], [0, 5, 0, 1, 2], [0, 0, 3, 0, 4], [0, 0, 0, 2, 1]])\n",
    "\n",
    "print(f'Ранг основной матрицы = {np.linalg.matrix_rank(A)}')\n",
    "print(f'Ранг расширенной матрицы = {np.linalg.matrix_rank(A_tilde)}')"
   ]
  },
  {
   "cell_type": "markdown",
   "id": "57f88117",
   "metadata": {},
   "source": [
    "__4.__ Дана система линейных уравнений, заданная расширенной матрицей:\n",
    "\n",
    "$$\\tilde{A}=\\begin{pmatrix}\n",
    "\\left.\\begin{matrix}\n",
    "1 & 2 & 3\\\\ \n",
    "4 & 5 & 6\\\\ \n",
    "7 & 8 & 9\n",
    "\\end{matrix}\\right|\n",
    "\\begin{matrix}\n",
    "a\\\\ \n",
    "b\\\\\n",
    "c\n",
    "\\end{matrix}\n",
    "\\end{pmatrix}.$$\n",
    "\n",
    "Найдите соотношение между параметрами $a$, $b$ и $c$, при которых система считается несовместной."
   ]
  },
  {
   "cell_type": "markdown",
   "id": "29f23ff0",
   "metadata": {},
   "source": [
    "Приведем матрицу к ступенчатому виду с помощью элементарных преобразований.\n",
    "\n",
    "$$\\begin{pmatrix}\n",
    "\\left.\\begin{matrix}\n",
    "1&2&3\\\\\n",
    "0&-3&-6\\\\\n",
    "0&-6&-12\n",
    "\\end{matrix}\\right|\n",
    "\\begin{matrix}\n",
    "a\\\\b-4a\\\\c-7a\n",
    "\\end{matrix}\n",
    "\\end{pmatrix}=\n",
    "\\begin{pmatrix}\n",
    "\\left.\\begin{matrix}\n",
    "1&2&3\\\\\n",
    "0&-3&-6\\\\\n",
    "0&-6&-12\n",
    "\\end{matrix}\\right|\n",
    "\\begin{matrix}\n",
    "a\\\\b-4a\\\\c-7a\n",
    "\\end{matrix}\n",
    "\\end{pmatrix}=\n",
    "\\begin{pmatrix}\n",
    "\\left.\\begin{matrix}\n",
    "1&2&3\\\\\n",
    "0&-3&-6\\\\\n",
    "0&0&0\n",
    "\\end{matrix}\\right|\n",
    "\\begin{matrix}\n",
    "a\\\\b-4a\\\\a-2b+c\n",
    "\\end{matrix}\n",
    "\\end{pmatrix}\n",
    "$$"
   ]
  },
  {
   "cell_type": "markdown",
   "id": "4c927931",
   "metadata": {},
   "source": [
    "Если $a-2b+c\\neq0$, то $rankA=2<rank\\tilde{A}=3$ и по т. Кронекера-Капелли система будет несовместной.\n",
    "\n",
    "__Ответ: при $a-2b+c\\neq0$ система будет несовместной.__"
   ]
  },
  {
   "cell_type": "markdown",
   "id": "f0fc522a",
   "metadata": {},
   "source": [
    "# Часть 2"
   ]
  },
  {
   "cell_type": "markdown",
   "id": "a0a49482",
   "metadata": {},
   "source": [
    "__1.__ Решите систему уравнений методом Крамера:\n",
    "\n",
    "   а) $\\begin{cases}\n",
    "x_{1}-2x_{2}=1 \\\\\n",
    "3x_{1}-4x_{2}=7\n",
    "\\end{cases}$"
   ]
  },
  {
   "cell_type": "markdown",
   "id": "2d65f638",
   "metadata": {},
   "source": [
    "Вычислим определитель матрицы:\n",
    "$$detA=\n",
    "\\begin{vmatrix}\n",
    "1&-2\\\\\n",
    "3&-4\n",
    "\\end{vmatrix}=\n",
    "-4+6=2\\neq0,$$\n",
    "т.е. система совместна.\n",
    "\n",
    "Вычислим определители $detA_1, detA_2,$ получаемые заменой $i$-го столбца на вектор правой части.\n",
    "$$detA_1=\n",
    "\\begin{vmatrix}\n",
    "1&-2\\\\\n",
    "7&-4\n",
    "\\end{vmatrix}=\n",
    "-4+14=10,$$\n",
    "$$detA_2=\n",
    "\\begin{vmatrix}\n",
    "1&1\\\\\n",
    "3&7\n",
    "\\end{vmatrix}=\n",
    "7-3=4.$$\n",
    "Тогда по формуле Крамера получим решение:\n",
    "$$x_1=\\frac{detA_1}{detA}=10/2=5$$<br>\n",
    "$$x_2=\\frac{detA_2}{detA}=4/2=2$$<br>\n",
    "__Ответ: $\\begin{pmatrix}5\\\\2\\end{pmatrix}.$__"
   ]
  },
  {
   "cell_type": "code",
   "execution_count": 6,
   "id": "1271e7e7",
   "metadata": {},
   "outputs": [
    {
     "name": "stdout",
     "output_type": "stream",
     "text": [
      "Матрица A =\n",
      "[[ 1 -2]\n",
      " [ 3 -4]]\n",
      "\n",
      "Вектор правой части b =\n",
      "[1 7]\n",
      "\n",
      "Решение x_numpy =\n",
      "[5. 2.]\n"
     ]
    }
   ],
   "source": [
    "A = np.array([[1, -2], [3, -4]])\n",
    "b = np.array([1, 7])\n",
    "\n",
    "x = np.linalg.solve(A, b)\n",
    "\n",
    "print(f'Матрица A =\\n{A}\\n')\n",
    "print(f'Вектор правой части b =\\n{b}\\n')\n",
    "print(f'Решение x_numpy =\\n{x}')"
   ]
  },
  {
   "cell_type": "markdown",
   "id": "2df41d20",
   "metadata": {},
   "source": [
    "   б) $\\begin{cases}\n",
    "2x_{1}-x_{2}+5x_{3}=10 \\\\\n",
    "x_{1}+x_{2}-3x_{3}=-2 \\\\\n",
    "2x_{1}+4x_{2}+x_{3}=1\n",
    "\\end{cases}$"
   ]
  },
  {
   "cell_type": "markdown",
   "id": "8dd6320b",
   "metadata": {},
   "source": [
    "Вычислим определитель матрицы:\n",
    "$$detA=\\begin{vmatrix}\n",
    "2&-1&5\\\\\n",
    "1&1&-3\\\\\n",
    "2&4&1\n",
    "\\end{vmatrix}=2*(1+12)+(1+6)+5*(4-2)=2*13+7+5*2=26+7+10=43\\neq0$$\n",
    "т.е. система совместна.<br>\n",
    "Вычислим определители $detA_1, detA_2, detA_3$ получаемые заменой $i$-го столбца на вектор правой части:\n",
    "\n",
    "$$detA_1\\begin{vmatrix}\n",
    "10&-1&5\\\\\n",
    "-2&1&-3\\\\\n",
    "1&4&1\n",
    "\\end{vmatrix}=10*13+(-2+3)+5*(-8-1)=130+1-45=86$$\n",
    "\n",
    "$$detA_2\\begin{vmatrix}\n",
    "2&10&5\\\\\n",
    "1&-2&-3\\\\\n",
    "2&1&1\n",
    "\\end{vmatrix}=2*(-2+3)-10*(1+6)+5*(1+4)=2-70+25=-43$$\n",
    "\n",
    "$$detA=\\begin{vmatrix}\n",
    "2&-1&10\\\\\n",
    "1&1&-2\\\\\n",
    "2&4&1\n",
    "\\end{vmatrix}=2*(1+8)+(1+4)+10*(4-2)=18+5+20=43$$\n",
    "Тогда по формуле Крамера получим решение:\n",
    "$$x_1=\\frac{detA_1}{detA}=86/43=2$$\n",
    "$$x_2=\\frac{detA_2}{detA}=-43/43=-1$$\n",
    "$$x_3=\\frac{detA_3}{detA}=43/43=1$$\n",
    "__Ответ: $\\begin{pmatrix}2\\\\-1\\\\1\\end{pmatrix}$__"
   ]
  },
  {
   "cell_type": "code",
   "execution_count": 7,
   "id": "60b49260",
   "metadata": {},
   "outputs": [
    {
     "name": "stdout",
     "output_type": "stream",
     "text": [
      "Матрица A =\n",
      "[[ 2 -1  5]\n",
      " [ 1  1 -3]\n",
      " [ 2  4  1]]\n",
      "\n",
      "Вектор правой части b =\n",
      "[10 -2  1]\n",
      "\n",
      "Решение x_numpy =\n",
      "[ 2. -1.  1.]\n"
     ]
    }
   ],
   "source": [
    "A = np.array([[2, -1, 5], [1, 1, -3], [2, 4, 1]])\n",
    "b = np.array([10, -2, 1])\n",
    "\n",
    "x = np.linalg.solve(A, b)\n",
    "\n",
    "print(f'Матрица A =\\n{A}\\n')\n",
    "print(f'Вектор правой части b =\\n{b}\\n')\n",
    "print(f'Решение x_numpy =\\n{x}')"
   ]
  },
  {
   "cell_type": "markdown",
   "id": "999d3b34",
   "metadata": {},
   "source": [
    "__2*.__ Найдите $L$-матрицу $LU$-разложения для матрицы коэффициентов:\n",
    "\n",
    "   а)$$\\begin{pmatrix}\n",
    "1 & 2 & 4 \\\\ \n",
    "2 & 9 & 12 \\\\ \n",
    "3 & 26 & 30\n",
    "\\end{pmatrix}$$"
   ]
  },
  {
   "cell_type": "markdown",
   "id": "e4a3e0af",
   "metadata": {},
   "source": [
    "Выполним преобразования $(2)-2\\cdot(1), (3)-3\\cdot(1)$. Матрица примет вид:"
   ]
  },
  {
   "cell_type": "markdown",
   "id": "78ad034e",
   "metadata": {},
   "source": [
    "$$\\begin{pmatrix}\n",
    "1 & 2 & 4 \\\\ \n",
    "0 & 5 & 4 \\\\ \n",
    "0 & 20 & 18\n",
    "\\end{pmatrix}$$\n",
    "Матрица L:\n",
    "$$L=\\begin{pmatrix}\n",
    "1 & 0 & 0 \\\\ \n",
    "2 & 1 & 0 \\\\ \n",
    "3 & l_{32} & 1\n",
    "\\end{pmatrix}$$"
   ]
  },
  {
   "cell_type": "markdown",
   "id": "3b505784",
   "metadata": {},
   "source": [
    "Выполним преобразования $(3)-4\\cdot(2)$. Получим искомые матрицы:\n",
    "\n",
    "$$U=\\begin{pmatrix}\n",
    "1 & 2 & 4 \\\\ \n",
    "0 & 5 & 4 \\\\ \n",
    "0 & 0 & 2\n",
    "\\end{pmatrix}$$\n",
    "Матрица L:\n",
    "$$L=\\begin{pmatrix}\n",
    "1 & 0 & 0 \\\\ \n",
    "2 & 1 & 0 \\\\ \n",
    "3 & 4 & 1\n",
    "\\end{pmatrix}$$\n",
    "\n",
    "__Ответ: $\\begin{pmatrix}\n",
    "1 & 0 & 0 \\\\ \n",
    "2 & 1 & 0 \\\\ \n",
    "3 & 4 & 1\n",
    "\\end{pmatrix}$__"
   ]
  },
  {
   "cell_type": "code",
   "execution_count": 8,
   "id": "7d0fe7f8",
   "metadata": {},
   "outputs": [
    {
     "name": "stdout",
     "output_type": "stream",
     "text": [
      "A =\n",
      "[[ 1  2  4]\n",
      " [ 2  9 12]\n",
      " [ 3 26 30]]\n",
      "\n",
      "LU =\n",
      "[[ 1  2  4]\n",
      " [ 2  9 12]\n",
      " [ 3 26 30]]\n"
     ]
    }
   ],
   "source": [
    "A = np.array([[1, 2, 4], [2, 9, 12], [3, 26, 30]])\n",
    "L = np.array([[1, 0, 0], [2, 1, 0], [3, 4, 1]])\n",
    "U = np.array([[1, 2, 4], [0, 5, 4], [0, 0, 2]])\n",
    "\n",
    "print(f'A =\\n{A}\\n')\n",
    "print(f'LU =\\n{np.dot(L, U)}')"
   ]
  },
  {
   "cell_type": "markdown",
   "id": "de67799d",
   "metadata": {},
   "source": [
    "   б)$$\\begin{pmatrix}\n",
    "1 & 1 & 2 & 4\\\\ \n",
    "2 & 5 & 8 & 9\\\\ \n",
    "3 & 18 & 29 & 18\\\\\n",
    "4 & 22 & 53 & 33\n",
    "\\end{pmatrix}$$"
   ]
  },
  {
   "cell_type": "markdown",
   "id": "03be3a80",
   "metadata": {},
   "source": [
    "Выполним преобразования $(2)-2\\cdot(1), (3)-3\\cdot(1), (4)-4\\cdot(1)$. Матрица системы примет следующий вид:\n",
    "$$\\begin{pmatrix}\n",
    "1 & 1 & 2 & 4\\\\\n",
    "0 & 3 & 4 & 1\\\\\n",
    "0 & 15 & 23 & 6\\\\\n",
    "0 & 18 & 45 & 17\n",
    "\\end{pmatrix}$$"
   ]
  },
  {
   "cell_type": "markdown",
   "id": "ae992f97",
   "metadata": {},
   "source": [
    "А матрица L:\n",
    "$$L=\\begin{pmatrix}\n",
    "1 & 0 & 0 & 0\\\\\n",
    "2 & 1 & 0 & 0\\\\\n",
    "3 & l_{32} & 1 & 0\\\\\n",
    "4 & l_{42} & l_{43} & 1\n",
    "\\end{pmatrix}$$"
   ]
  },
  {
   "cell_type": "markdown",
   "id": "9eb57ee1",
   "metadata": {},
   "source": [
    "Теперь выполним $(3)-5\\cdot(2), (4)-6\\cdot(2)$. Получим\n",
    "$$\\begin{pmatrix}\n",
    "1 & 1 & 2 & 4\\\\\n",
    "0 & 3 & 4 & 1\\\\\n",
    "0 & 0 & 3 & 1\\\\\n",
    "0 & 0 & 21 & 11\n",
    "\\end{pmatrix}$$"
   ]
  },
  {
   "cell_type": "markdown",
   "id": "d104dd95",
   "metadata": {},
   "source": [
    "Матрица L:\n",
    "$$L=\\begin{pmatrix}\n",
    "1 & 0 & 0 & 0\\\\\n",
    "2 & 1 & 0 & 0\\\\\n",
    "3 & 5 & 1 & 0\\\\\n",
    "4 & 6 & l_{43} & 1\n",
    "\\end{pmatrix}$$"
   ]
  },
  {
   "cell_type": "markdown",
   "id": "0c4a979b",
   "metadata": {},
   "source": [
    "Выполним $(4)-7\\cdot(3)$ и получим:\n",
    "$$\\begin{pmatrix}\n",
    "1 & 1 & 2 & 4\\\\\n",
    "0 & 3 & 4 & 1\\\\\n",
    "0 & 0 & 3 & 1\\\\\n",
    "0 & 0 & 0 & 4\n",
    "\\end{pmatrix}$$"
   ]
  },
  {
   "cell_type": "markdown",
   "id": "edb629db",
   "metadata": {},
   "source": [
    "Матрица L:\n",
    "$$L=\\begin{pmatrix}\n",
    "1 & 0 & 0 & 0\\\\\n",
    "2 & 1 & 0 & 0\\\\\n",
    "3 & 5 & 1 & 0\\\\\n",
    "4 & 6 & 7 & 1\n",
    "\\end{pmatrix}$$"
   ]
  },
  {
   "cell_type": "markdown",
   "id": "4eabe104",
   "metadata": {},
   "source": [
    "__Ответ: $L=\\begin{pmatrix}\n",
    "1 & 0 & 0 & 0\\\\\n",
    "2 & 1 & 0 & 0\\\\\n",
    "3 & 5 & 1 & 0\\\\\n",
    "4 & 6 & 7 & 1\n",
    "\\end{pmatrix}$__"
   ]
  },
  {
   "cell_type": "code",
   "execution_count": 9,
   "id": "4a3ab58f",
   "metadata": {},
   "outputs": [
    {
     "name": "stdout",
     "output_type": "stream",
     "text": [
      "A =\n",
      "[[ 1  1  2  4]\n",
      " [ 2  5  8  9]\n",
      " [ 3 18 29 18]\n",
      " [ 4 22 53 33]]\n",
      "\n",
      "LU =\n",
      "[[ 1  1  2  4]\n",
      " [ 2  5  8  9]\n",
      " [ 3 18 29 18]\n",
      " [ 4 22 53 33]]\n"
     ]
    }
   ],
   "source": [
    "A = np.array([[1, 1, 2, 4], [2, 5, 8, 9], [3, 18, 29, 18], [4, 22, 53, 33]])\n",
    "L = np.array([[1, 0, 0, 0], [2, 1, 0, 0], [3, 5, 1, 0], [4, 6, 7, 1]])\n",
    "U = np.array([[1, 1, 2, 4], [0, 3, 4, 1], [0, 0, 3, 1], [0, 0, 0, 4]])\n",
    "\n",
    "print(f'A =\\n{A}\\n')\n",
    "print(f'LU =\\n{np.dot(L, U)}')"
   ]
  },
  {
   "cell_type": "markdown",
   "id": "f13e8c62",
   "metadata": {},
   "source": [
    "__3*.__ Решите систему линейных уравнений методом $LU$-разложения:\n",
    "\n",
    "$$\\begin{cases}\n",
    "2x_{1}+x_{2}+3x_{3}=1 \\\\\n",
    "11x_{1}+7x_{2}+5x_{3}=-6 \\\\\n",
    "9x_{1}+8x_{2}+4x_{3}=-5\n",
    "\\end{cases}$$"
   ]
  },
  {
   "cell_type": "markdown",
   "id": "30b60007",
   "metadata": {},
   "source": [
    "Матрица системы и вектор правой части имеют вид:\n",
    "$$\\begin{pmatrix}\n",
    "2 & 1 & 3\\\\\n",
    "11 & 7 & 5\\\\\n",
    "9 & 8 & 4\n",
    "\\end{pmatrix}, b=\n",
    "\\begin{pmatrix}\n",
    "1 \\\\ -6 \\\\ -5\n",
    "\\end{pmatrix}$$"
   ]
  },
  {
   "cell_type": "markdown",
   "id": "c377cf42",
   "metadata": {},
   "source": [
    "Выполним преобразование $(2)-\\frac{11}{2}\\cdot(1), (3)-\\frac{9}{2}\\cdot(1)$, получим:\n",
    "$$\\begin{pmatrix}\n",
    "2 & 1 & 3\\\\\n",
    "0 & \\frac{3}{2} & -\\frac{23}{2}\\\\\n",
    "0 & \\frac{7}{2} & -\\frac{19}{2}\n",
    "\\end{pmatrix}$$\n",
    "\n",
    "$$L=\\begin{pmatrix}\n",
    "1 & 0 & 0\\\\\n",
    "\\frac{11}{2} & 1 & 0\\\\\n",
    "\\frac{9}{2} & l_{32} & 1\n",
    "\\end{pmatrix}$$"
   ]
  },
  {
   "cell_type": "markdown",
   "id": "d02926cc",
   "metadata": {},
   "source": [
    "Выполним преобразование $(3)-\\frac{7}{3}\\cdot(2)$, получим:\n",
    "$$\\begin{pmatrix}\n",
    "2 & 1 & 3\\\\\n",
    "0 & \\frac{3}{2} & -\\frac{23}{2}\\\\\n",
    "0 & 0 & \\frac{104}{6}\n",
    "\\end{pmatrix}$$\n",
    "\n",
    "$$L=\\begin{pmatrix}\n",
    "1 & 0 & 0\\\\\n",
    "\\frac{11}{2} & 1 & 0\\\\\n",
    "\\frac{9}{2} & \\frac{7}{3} & 1\n",
    "\\end{pmatrix}$$"
   ]
  },
  {
   "cell_type": "markdown",
   "id": "c8f30e7c",
   "metadata": {},
   "source": [
    "Теперь решим систему\n",
    "$$Ly=b,$$\n",
    "\n",
    "$$\\begin{cases}\n",
    "y_{1}=1,\\\\\n",
    "\\frac{11}{2}y_{1} + y_{2} = -6,\\\\\n",
    "\\frac{9}{2}y_{1} + \\frac{7}{3}y_{2} + y_{3} = -5.\n",
    "\\end{cases}\\Rightarrow\n",
    "\\begin{cases}\n",
    "y_{1} = 1,\\\\\n",
    "y_{2} = -6-\\frac{11}{2}y_{1} = -6 - \\frac{11}{2}=-\\frac{23}{2},\\\\\n",
    "y_{3} = -5-\\frac{9}{2}y_{1}-\\frac{7}{3}y_{2}=-5-\\frac{9}{2}+\\frac{161}{6}=\\frac{161-27-30}{6}=\\frac{104}{6}=\\frac{52}{3}.\n",
    "\\end{cases}\n",
    "$$"
   ]
  },
  {
   "cell_type": "markdown",
   "id": "114b8cca",
   "metadata": {},
   "source": [
    "$$\\begin{cases}\n",
    "y_{1} = 1,\\\\\n",
    "y_{2} = -\\frac{23}{2},\\\\\n",
    "y_{3} = \\frac{52}{3}.\n",
    "\\end{cases}$$"
   ]
  },
  {
   "cell_type": "markdown",
   "id": "01986195",
   "metadata": {},
   "source": [
    "Затем решим систему\n",
    "\n",
    "$$Ux = y,$$\n",
    "\n",
    "$$\\begin{cases}\n",
    "2x_1+x_2+3x_3=1,\\\\\n",
    "\\frac{3}{2}x_2-\\frac{23}{2}x_3=-\\frac{23}{2},\\\\\n",
    "\\frac{104}{6}x_3=\\frac{52}{3}.\n",
    "\\end{cases}\\Rightarrow\n",
    "\\begin{cases}\n",
    "x_1=\\frac{1}{2}(1-3x_3-x_2)=\\frac{1}{2}(1-0-3)=-1,\\\\\n",
    "x_2=\\frac{2}{3}(-\\frac{23}{2}+\\frac{23}{2}x_3)=\\frac{2}{3}(-\\frac{23}{2}+\\frac{23}{2})=0,\\\\\n",
    "x_3=1.\n",
    "\\end{cases}$$"
   ]
  },
  {
   "cell_type": "markdown",
   "id": "22e40408",
   "metadata": {},
   "source": [
    "Получили решение\n",
    "$$\\begin{cases}\n",
    "x_1 = -1\\\\\n",
    "x_2 = 0\\\\\n",
    "x_3 = 1\n",
    "\\end{cases}$$"
   ]
  },
  {
   "cell_type": "markdown",
   "id": "5d6c8d79",
   "metadata": {},
   "source": [
    "__Ответ: $\\begin{pmatrix}\n",
    "-1 \\\\\n",
    "0 \\\\\n",
    "1 \n",
    "\\end{pmatrix}$__"
   ]
  },
  {
   "cell_type": "code",
   "execution_count": 10,
   "id": "794680a8",
   "metadata": {},
   "outputs": [
    {
     "name": "stdout",
     "output_type": "stream",
     "text": [
      "Матрица A =\n",
      "[[ 2  1  3]\n",
      " [11  7  5]\n",
      " [ 9  8  4]]\n",
      "\n",
      "Вектор правой части b =\n",
      "[ 1 -6 -5]\n",
      "\n",
      "LU =\n",
      "[[ 2.  1.  3.]\n",
      " [11.  7.  5.]\n",
      " [ 9.  8.  4.]]\n",
      "\n",
      "Решение x_numpy =\n",
      "[-1.00000000e+00  2.44249065e-16  1.00000000e+00]\n"
     ]
    }
   ],
   "source": [
    "A = np.array([[2, 1, 3], [11, 7, 5], [9, 8, 4]])\n",
    "b = np.array([1, -6, -5])\n",
    "\n",
    "L = np.array([[1, 0, 0], [11 / 2, 1, 0], [9 / 2, 7 / 3, 1]])\n",
    "U = np.array([[2, 1, 3], [0, 3 / 2, -23 / 2], [0, 0, 52 / 3]])\n",
    "\n",
    "x = np.linalg.solve(A, b)\n",
    "\n",
    "print(f'Матрица A =\\n{A}\\n')\n",
    "print(f'Вектор правой части b =\\n{b}\\n')\n",
    "print(f'LU =\\n{np.dot(L, U)}\\n')\n",
    "\n",
    "print(f'Решение x_numpy =\\n{x}')"
   ]
  },
  {
   "cell_type": "markdown",
   "id": "bf2669b3",
   "metadata": {},
   "source": [
    "__4*.__ Решите систему линейных уравнений методом Холецкого:\n",
    "\n",
    "$$\\begin{cases}\n",
    "81x_{1}-45x_{2}+45x_{3}=531 \\\\\n",
    "-45x_{1}+50x_{2}-15x_{3}=-460 \\\\\n",
    "45x_{1}-15x_{2}+38x_{3}=193\n",
    "\\end{cases}$$"
   ]
  },
  {
   "cell_type": "markdown",
   "id": "4160cb1c",
   "metadata": {},
   "source": [
    "Матрица системы и вектор правой части имеют вид:\n",
    "$$A=\\begin{pmatrix}\n",
    "81 & - 45 & 45 \\\\\n",
    "-45 & 50 & -15\\\\\n",
    "45 & -15 & 38\n",
    "\\end{pmatrix}, b =\n",
    "\\begin{pmatrix}\n",
    "531 \\\\ -460 \\\\ 193\n",
    "\\end{pmatrix}$$"
   ]
  },
  {
   "cell_type": "markdown",
   "id": "ce4ca54d",
   "metadata": {},
   "source": [
    "Элементы матрицы $L$ рассчитываются по формулам:\n",
    "$$l_{ii}=\\sqrt{a_{ii}-\\sum_{k = 1}^{i - 1}l_{ik}^{2}},$$\n",
    "\n",
    "$$l_{ji}=\\frac{1}{l_{ii}} \\left( a_{ji} - \\sum_{k = 1}^{j - 1}l_{ik}l_{jk} \\right), \\; j < i.$$"
   ]
  },
  {
   "cell_type": "markdown",
   "id": "5b8b2842",
   "metadata": {},
   "source": [
    "Выполним разложение $LL^{T}$:\n",
    "$$l_{11}=\\sqrt{a_{11}}=\\sqrt{81}=9,$$"
   ]
  },
  {
   "cell_type": "markdown",
   "id": "42810331",
   "metadata": {},
   "source": [
    "$$l_{21}=\\frac{a_{21}}{l_{11}} = \\frac{-45}{9}=-5,$$"
   ]
  },
  {
   "cell_type": "markdown",
   "id": "f667d57b",
   "metadata": {},
   "source": [
    "$$l_{31}=\\frac{a_{31}}{l_{11}}=\\frac{45}{9}=5,$$"
   ]
  },
  {
   "cell_type": "markdown",
   "id": "ac4fb1b0",
   "metadata": {},
   "source": [
    "$$l_{22}=\\sqrt{a_22-l_{21}^2}=\\sqrt{50-25}=5,$$"
   ]
  },
  {
   "cell_type": "markdown",
   "id": "e7aa8718",
   "metadata": {},
   "source": [
    "$$l_{32} = \\frac{1}{l_{22}} (a_{32} - l_{31} l_{21}) = \\frac{1}{5} (-15 + 25) = 2,$$"
   ]
  },
  {
   "cell_type": "markdown",
   "id": "96ade0ba",
   "metadata": {},
   "source": [
    "$$l_{33} = \\sqrt{a_{33} - l_{31}^2 - l_{32}^2} = \\sqrt{38 - 25 - 4} = 3.$$"
   ]
  },
  {
   "cell_type": "markdown",
   "id": "15ec628d",
   "metadata": {},
   "source": [
    "Получили матрицу\n",
    "$$L=\\begin{pmatrix}\n",
    "9 & 0 & 0 \\\\\n",
    "-5 & 5 & 0 \\\\\n",
    "5 & 2 & 3\n",
    "\\end{pmatrix}, L^{T}=\n",
    "\\begin{pmatrix}\n",
    "9 & -5 & 5 \\\\\n",
    "0 & 5 & 2 \\\\\n",
    "0 & 0 & 3\n",
    "\\end{pmatrix}$$"
   ]
  },
  {
   "cell_type": "markdown",
   "id": "e7d75711",
   "metadata": {},
   "source": [
    "Решим систему\n",
    "$$Ly=b,$$\n",
    "\n",
    "$$\\begin{cases}\n",
    "9y_1 = 531, \\\\\n",
    "-5y_1 + 5y_2 = -460,\\\\\n",
    "5y_1 + 2y_2 + 3y_3 = 193.\n",
    "\\end{cases}\\Rightarrow\n",
    "\\begin{cases}\n",
    "y_1 = 59, \\\\\n",
    "y_2 = \\frac{1}{5}(-460+5y_1)=-33\\\\\n",
    "y_3 = \\frac{1}{3}(193-2y_2-5y_1) = -12.\n",
    "\\end{cases}$$"
   ]
  },
  {
   "cell_type": "markdown",
   "id": "b7840d99",
   "metadata": {},
   "source": [
    "$$\\begin{cases}\n",
    "y_1 = 59, \\\\\n",
    "y_2 = -33,\\\\\n",
    "y_3 = -12.\n",
    "\\end{cases}$$"
   ]
  },
  {
   "cell_type": "markdown",
   "id": "efff3f74",
   "metadata": {},
   "source": [
    "Решим систему:\n",
    "$$L^{T}x=y,$$\n",
    "\n",
    "$$\\begin{cases}\n",
    "9x_1 - 5x_2 + 5x_3 = 59, \\\\\n",
    "5x_2 + 2x_3 = -33,\\\\\n",
    "3x_3 = -12.\n",
    "\\end{cases}\\Rightarrow\n",
    "\\begin{cases}\n",
    "x_3 = -4,\\\\\n",
    "x_2 = (-33 -2x_3) / 5 = (-33+8)/5=-5,\\\\\n",
    "x_1 = (59 - 5x_3 + 5x_2)/9 = (59 + 20 - 25) / 9 = 54/9=6\n",
    "\\end{cases}\\Rightarrow\n",
    "\\begin{cases}\n",
    "x_1 = 6,\\\\\n",
    "x_2 = -5,\\\\\n",
    "x_3 = -4\n",
    "\\end{cases}$$"
   ]
  },
  {
   "cell_type": "markdown",
   "id": "4a2ec73b",
   "metadata": {},
   "source": [
    "__Ответ: $\\begin{pmatrix}\n",
    "6 \\\\ -5 \\\\ -4\n",
    "\\end{pmatrix}$.__"
   ]
  },
  {
   "cell_type": "code",
   "execution_count": 11,
   "id": "d72b6abd",
   "metadata": {
    "scrolled": true
   },
   "outputs": [
    {
     "name": "stdout",
     "output_type": "stream",
     "text": [
      "Матрица A =\n",
      "[[ 81 -45  45]\n",
      " [-45  50 -15]\n",
      " [ 45 -15  38]]\n",
      "\n",
      "Вектор правой части b =\n",
      "[ 531 -460  193]\n",
      "\n",
      "L_numpy =\n",
      "[[ 9.  0.  0.]\n",
      " [-5.  5.  0.]\n",
      " [ 5.  2.  3.]]\n",
      "\n",
      "Решение x_numpy =\n",
      "[ 6. -5. -4.]\n"
     ]
    }
   ],
   "source": [
    "A = np.array([[81, -45, 45], [-45, 50, -15], [45, -15, 38]])\n",
    "b = np.array([531, -460, 193])\n",
    "\n",
    "L = np.linalg.cholesky(A)\n",
    "\n",
    "x = np.linalg.solve(A, b)\n",
    "\n",
    "print(f'Матрица A =\\n{A}\\n')\n",
    "print(f'Вектор правой части b =\\n{b}\\n')\n",
    "print(f'L_numpy =\\n{L}\\n')\n",
    "\n",
    "print(f'Решение x_numpy =\\n{x}')"
   ]
  },
  {
   "cell_type": "code",
   "execution_count": 12,
   "id": "03040db3",
   "metadata": {},
   "outputs": [],
   "source": [
    "import numpy as np"
   ]
  },
  {
   "cell_type": "code",
   "execution_count": 41,
   "id": "18269dcc",
   "metadata": {},
   "outputs": [],
   "source": [
    "def solve_triangle(A, b, lower=True):\n",
    "    \"\"\"\n",
    "    Решает СЛАУ с треугольной матрицей.\n",
    "    A - матрица системы,\n",
    "    b - правая часть системы,\n",
    "    lower - если true, то матрица нижнетреугольная, иначе верхнетреугольная.\n",
    "    \"\"\"\n",
    "    size = A.shape[0]\n",
    "    indexes = range(size) if lower else reversed(range(size))\n",
    "    \n",
    "    x = np.zeros(size)\n",
    "    for i in indexes:\n",
    "        slice_indexes = slice(i) if lower else slice(size, i, -1)\n",
    "        x[i] = (b[i] - A[i, slice_indexes] @ x[slice_indexes]) / A[i, i]\n",
    "        \n",
    "    return x"
   ]
  },
  {
   "cell_type": "code",
   "execution_count": 45,
   "id": "d211ef05",
   "metadata": {},
   "outputs": [],
   "source": [
    "def lu(A, b):\n",
    "    if np.linalg.det(A) == 0:\n",
    "        raise Exception('Определитель матрицы равен 0')\n",
    "    size = A.shape[0]\n",
    "    L = np.zeros((size, size))\n",
    "    U = np.copy(A)\n",
    "    U = U.astype('float64')\n",
    "    L = L.astype('float64')\n",
    "    np.fill_diagonal(L, 1)\n",
    "    for i in range(size):\n",
    "        for j in range(i+1, size):\n",
    "            L[j][i] = U[j][i] / U[i][i]\n",
    "            U[j] = U[j] - L[j][i] * U[i]\n",
    "    y = solve_triangle(L, b)    \n",
    "    x = solve_triangle(U, y, lower=False)\n",
    "    \n",
    "    return L, U, x"
   ]
  },
  {
   "cell_type": "code",
   "execution_count": 46,
   "id": "4d217033",
   "metadata": {},
   "outputs": [
    {
     "name": "stdout",
     "output_type": "stream",
     "text": [
      "[[ 2  1  3]\n",
      " [11  7  5]\n",
      " [ 9  8  4]]\n"
     ]
    }
   ],
   "source": [
    "A = np.array([[2, 1, 3], [11, 7, 5], [9, 8, 4]])\n",
    "b = np.array([1, -6, -5])\n",
    "print(A)"
   ]
  },
  {
   "cell_type": "code",
   "execution_count": 47,
   "id": "4a621bbf",
   "metadata": {},
   "outputs": [
    {
     "data": {
      "text/plain": [
       "(array([[1.        , 0.        , 0.        ],\n",
       "        [5.5       , 1.        , 0.        ],\n",
       "        [4.5       , 2.33333333, 1.        ]]),\n",
       " array([[  2.        ,   1.        ,   3.        ],\n",
       "        [  0.        ,   1.5       , -11.5       ],\n",
       "        [  0.        ,   0.        ,  17.33333333]]),\n",
       " array([-1.,  0.,  1.]))"
      ]
     },
     "execution_count": 47,
     "metadata": {},
     "output_type": "execute_result"
    }
   ],
   "source": [
    "lu(A, b)"
   ]
  }
 ],
 "metadata": {
  "kernelspec": {
   "display_name": "Python 3 (ipykernel)",
   "language": "python",
   "name": "python3"
  },
  "language_info": {
   "codemirror_mode": {
    "name": "ipython",
    "version": 3
   },
   "file_extension": ".py",
   "mimetype": "text/x-python",
   "name": "python",
   "nbconvert_exporter": "python",
   "pygments_lexer": "ipython3",
   "version": "3.9.12"
  }
 },
 "nbformat": 4,
 "nbformat_minor": 5
}
