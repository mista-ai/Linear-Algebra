{
 "cells": [
  {
   "cell_type": "markdown",
   "id": "9033fc55",
   "metadata": {},
   "source": [
    "1. Найдите посредством NumPy SVD для матрицы:\n",
    "\n",
    "$$\\begin{pmatrix}\n",
    "1 & 2 & 0\\\\ \n",
    "0 & 0 & 5\\\\ \n",
    "3 & -4 & 2\\\\ \n",
    "1 & 6 & 5\\\\ \n",
    "0 & 1 & 0\n",
    "\\end{pmatrix}.$$"
   ]
  },
  {
   "cell_type": "code",
   "execution_count": 1,
   "id": "318ccb6d",
   "metadata": {},
   "outputs": [],
   "source": [
    "import numpy as np"
   ]
  },
  {
   "cell_type": "code",
   "execution_count": 10,
   "id": "9f128299",
   "metadata": {},
   "outputs": [],
   "source": [
    "np.set_printoptions(precision=2, suppress=True)"
   ]
  },
  {
   "cell_type": "code",
   "execution_count": 11,
   "id": "0cedea87",
   "metadata": {},
   "outputs": [],
   "source": [
    "A = np.array([[1, 2, 0], [0, 0, 5], [3, -4, 2], [1, 6, 5], [0, 1, 0]])"
   ]
  },
  {
   "cell_type": "code",
   "execution_count": 12,
   "id": "072d0616",
   "metadata": {},
   "outputs": [],
   "source": [
    "U, s, W = np.linalg.svd(A)\n",
    "V = W.T\n",
    "\n",
    "D = np.zeros_like(A, dtype=float)\n",
    "D[np.diag_indices(min(A.shape))] = s"
   ]
  },
  {
   "cell_type": "code",
   "execution_count": 14,
   "id": "d40e1684",
   "metadata": {},
   "outputs": [
    {
     "name": "stdout",
     "output_type": "stream",
     "text": [
      "Матрица A =\n",
      "[[ 1  2  0]\n",
      " [ 0  0  5]\n",
      " [ 3 -4  2]\n",
      " [ 1  6  5]\n",
      " [ 0  1  0]]\n",
      "\n",
      "Матрица U =\n",
      "[[ 0.17  0.16 -0.53 -0.8  -0.16]\n",
      " [ 0.39 -0.53  0.61 -0.43  0.03]\n",
      " [-0.14 -0.82 -0.52  0.14  0.07]\n",
      " [ 0.89  0.06 -0.25  0.38 -0.06]\n",
      " [ 0.08  0.11 -0.08 -0.11  0.98]]\n",
      "\n",
      "Матрица D =\n",
      "[[8.82 0.   0.  ]\n",
      " [0.   6.14 0.  ]\n",
      " [0.   0.   2.53]\n",
      " [0.   0.   0.  ]\n",
      " [0.   0.   0.  ]]\n",
      "\n",
      "Матрица V =\n",
      "[[ 0.07 -0.37 -0.93]\n",
      " [ 0.72  0.67 -0.21]\n",
      " [ 0.69 -0.65  0.31]]\n",
      "\n",
      "UDV^T =\n",
      "[[ 1.  2.  0.]\n",
      " [ 0. -0.  5.]\n",
      " [ 3. -4.  2.]\n",
      " [ 1.  6.  5.]\n",
      " [-0.  1.  0.]]\n",
      "\n",
      "Сингулярные числа: \n",
      "[8.82 6.14 2.53]\n"
     ]
    }
   ],
   "source": [
    "print(f'Матрица A =\\n{A}\\n')\n",
    "print(f'Матрица U =\\n{U}\\n')\n",
    "print(f'Матрица D =\\n{D}\\n')\n",
    "print(f'Матрица V =\\n{V}\\n')\n",
    "\n",
    "print(f'UDV^T =\\n{np.dot(U, np.dot(D, V.T))}\\n')\n",
    "\n",
    "print(f'Сингулярные числа: \\n{s}')"
   ]
  },
  {
   "cell_type": "markdown",
   "id": "5dc990de",
   "metadata": {},
   "source": [
    "2. Для матрицы из предыдущего задания найдите:\n",
    "\n",
    "    а) евклидову норму;"
   ]
  },
  {
   "cell_type": "markdown",
   "id": "72d3d6bd",
   "metadata": {},
   "source": [
    "Евклидова норма равна максимальному сингулярному числу, т.е:\n",
    "$$||A||_{E} = \\mu_1 = 8.82$$\n",
    "__Ответ: 8.82__"
   ]
  },
  {
   "cell_type": "code",
   "execution_count": 15,
   "id": "e4fb6d7d",
   "metadata": {},
   "outputs": [
    {
     "data": {
      "text/plain": [
       "8.824868854820442"
      ]
     },
     "execution_count": 15,
     "metadata": {},
     "output_type": "execute_result"
    }
   ],
   "source": [
    "max(s)"
   ]
  },
  {
   "cell_type": "markdown",
   "id": "991fc40d",
   "metadata": {},
   "source": [
    "    б) норму Фробениуса."
   ]
  },
  {
   "cell_type": "markdown",
   "id": "29de8785",
   "metadata": {},
   "source": [
    "$$||A||_{F} = \\sqrt{\\sum_{k=1}^r \\mu_k^2} = 11.04$$\n",
    "__Ответ: 11.04__"
   ]
  },
  {
   "cell_type": "code",
   "execution_count": 17,
   "id": "b838b09f",
   "metadata": {},
   "outputs": [
    {
     "data": {
      "text/plain": [
       "11.045361017187261"
      ]
     },
     "execution_count": 17,
     "metadata": {},
     "output_type": "execute_result"
    }
   ],
   "source": [
    "sum([i*i for i in s]) ** 0.5"
   ]
  }
 ],
 "metadata": {
  "kernelspec": {
   "display_name": "Python 3 (ipykernel)",
   "language": "python",
   "name": "python3"
  },
  "language_info": {
   "codemirror_mode": {
    "name": "ipython",
    "version": 3
   },
   "file_extension": ".py",
   "mimetype": "text/x-python",
   "name": "python",
   "nbconvert_exporter": "python",
   "pygments_lexer": "ipython3",
   "version": "3.9.12"
  }
 },
 "nbformat": 4,
 "nbformat_minor": 5
}
